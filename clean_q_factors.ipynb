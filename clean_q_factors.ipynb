{
 "cells": [
  {
   "cell_type": "code",
   "execution_count": 3,
   "id": "bb95202b-e770-4e70-8925-099ead28d931",
   "metadata": {},
   "outputs": [],
   "source": [
    "df = read('q5_factors_monthly_2020.csv')"
   ]
  },
  {
   "cell_type": "code",
   "execution_count": 5,
   "id": "80bc6a1d-2849-48b7-bda8-46eebfd85c9b",
   "metadata": {},
   "outputs": [],
   "source": [
    "df['date'] = df.year*100+df.month"
   ]
  },
  {
   "cell_type": "code",
   "execution_count": 8,
   "id": "c72b55c3-a0e0-4121-a0f0-c9f0108422a7",
   "metadata": {},
   "outputs": [
    {
     "data": {
      "text/plain": [
       "['year', 'month', 'r_f', 'r_mkt', 'r_me', 'r_ia', 'r_roe', 'r_eg', 'date']"
      ]
     },
     "execution_count": 8,
     "metadata": {},
     "output_type": "execute_result"
    }
   ],
   "source": [
    "list(df)"
   ]
  },
  {
   "cell_type": "code",
   "execution_count": 9,
   "id": "13339e22-4665-4ddb-8093-3453576894f1",
   "metadata": {},
   "outputs": [],
   "source": [
    "df[['r_me', 'r_ia', 'r_roe', 'r_eg', 'date']].to_csv('q_factors.csv',index=False)"
   ]
  }
 ],
 "metadata": {
  "kernelspec": {
   "display_name": "Python 3 (ipykernel)",
   "language": "python",
   "name": "python3"
  },
  "language_info": {
   "codemirror_mode": {
    "name": "ipython",
    "version": 3
   },
   "file_extension": ".py",
   "mimetype": "text/x-python",
   "name": "python",
   "nbconvert_exporter": "python",
   "pygments_lexer": "ipython3",
   "version": "3.8.12"
  }
 },
 "nbformat": 4,
 "nbformat_minor": 5
}
